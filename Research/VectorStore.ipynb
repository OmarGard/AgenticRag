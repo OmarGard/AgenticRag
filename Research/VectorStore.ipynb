{
 "cells": [
  {
   "cell_type": "code",
   "execution_count": 1,
   "metadata": {},
   "outputs": [
    {
     "name": "stderr",
     "output_type": "stream",
     "text": [
      "USER_AGENT environment variable not set, consider setting it to identify your requests.\n"
     ]
    }
   ],
   "source": [
    "from langchain_community.document_loaders import WebBaseLoader\n",
    "from langchain_text_splitters import RecursiveCharacterTextSplitter\n",
    "from langchain_chroma import Chroma\n",
    "from langchain_ollama import OllamaEmbeddings"
   ]
  },
  {
   "cell_type": "code",
   "execution_count": 2,
   "metadata": {},
   "outputs": [],
   "source": [
    "urls = [\n",
    "    \"https://www.planetary.org/space-missions/curiosity\",\n",
    "    \"https://www.rmg.co.uk/stories/topics/mars-nasa-rover-perseverance-facts-dates\"\n",
    "]\n",
    "\n",
    "docs = [WebBaseLoader(url).load() for url in urls]\n",
    "docs_list = [item for sublist in docs for item in sublist]\n",
    "\n",
    "text_splitter = RecursiveCharacterTextSplitter.from_tiktoken_encoder(\n",
    "    chunk_size=250, chunk_overlap=0\n",
    ")\n",
    "doc_splits = text_splitter.split_documents(docs_list)\n"
   ]
  },
  {
   "cell_type": "code",
   "execution_count": 3,
   "metadata": {},
   "outputs": [],
   "source": [
    "persist_directory = \"../backend/chroma_langchain_db\"\n",
    "collection_name = \"rag-chroma\""
   ]
  },
  {
   "cell_type": "code",
   "execution_count": 4,
   "metadata": {},
   "outputs": [],
   "source": [
    "!rm -rf ../backend/chroma_langchain_db  # remove old database files if any"
   ]
  },
  {
   "cell_type": "code",
   "execution_count": 5,
   "metadata": {},
   "outputs": [],
   "source": [
    "# Embedding Model\n",
    "oembed = OllamaEmbeddings(base_url=\"http://localhost:11434\", model=\"nomic-embed-text\")\n",
    "\n",
    "# Add to vectorDB\n",
    "vectorstore = Chroma.from_documents(\n",
    "    documents=doc_splits,\n",
    "    collection_name=collection_name,\n",
    "    embedding=oembed,\n",
    "    persist_directory=persist_directory\n",
    ")"
   ]
  },
  {
   "cell_type": "code",
   "execution_count": 6,
   "metadata": {},
   "outputs": [
    {
     "name": "stdout",
     "output_type": "stream",
     "text": [
      "39\n"
     ]
    }
   ],
   "source": [
    "print(vectorstore._collection.count())"
   ]
  },
  {
   "cell_type": "code",
   "execution_count": 7,
   "metadata": {},
   "outputs": [
    {
     "data": {
      "text/plain": [
       "[Document(id='d3b29ca7-41c4-44c6-9df7-988cd957ac56', metadata={'description': \"NASA's Curiosity rover landed on Mars in 2012 to search for evidence that the planet could once have supported Earth-like life.\", 'language': 'en', 'source': 'https://www.planetary.org/space-missions/curiosity', 'title': \"Curiosity, exploring Mars' surface | The Planetary Society\"}, page_content=\"Watching Curiosity Land on Mars A couple in Times Square listens intently to the news reports as NASA's Curiosity rover attempts to land on Mars.Image: Navid BaratyWhat are Curiosity's mission objectives?Within a year, Curiosity achieved its primary goal of verifying that\\nGale Crater, where it landed, was an ancient lakebed that had water and\\nchemical elements that once could have supported life.Now in extended mission operations, Curiosity is continuing to look\\nfor signs of life in Gale Crater. In January 2022, scientists reported\\nthat rock samples found by Curiosity revealed interesting carbon\\nsignatures. On Earth, these can be associated with signs of life.\\nHowever, much more research is needed to determine what these organics\\nactually were and where they might have come from.By continuing to gather weather data as it drives up Mount Sharp, Curiosity\\nis helping Mars meteorologists understand how the planet’s atmosphere\\nand dust levels change with increasing elevation, which will help them\\nmake better weather predictions in the future.\"),\n",
       " Document(id='5c168c6b-0755-401f-9d58-bfe4d2330f25', metadata={'description': \"NASA's Curiosity rover landed on Mars in 2012 to search for evidence that the planet could once have supported Earth-like life.\", 'language': 'en', 'source': 'https://www.planetary.org/space-missions/curiosity', 'title': \"Curiosity, exploring Mars' surface | The Planetary Society\"}, page_content='A view inside the Curiosity SAM inlet On sol 2155, Curiosity used its Mastcam to take a look at the condition of one of the two SAM instrument inlets on the rover deck. The spring-loaded cover is open, revealing the relatively clean funnel that accepts samples dropped from the arm turret.Image: NASA / JPL-Caltech / MSSSHow does Curiosity take selfies?Curiosity takes selfies by stretching out its robotic arm and turning the MAHLI camera back on itself. Because the camera’s field of view is so narrow, multiple images must be taken and stitched together back on Earth. The robotic arm must be cropped out in the process, which can cause confusion for people viewing the stunning result.Other Curiosity science instruments include ChemCam, which zaps rocks with a laser\\nand records the resulting light through a telescope to determine the\\nchemical and mineral composition of the rocks, as well as weather and'),\n",
       " Document(id='f7edf1f8-f774-452b-ae4f-3129c1f53936', metadata={'description': \"NASA's new rover\\xa0is ready to begin searching for life on Mars\", 'language': 'en', 'source': 'https://www.rmg.co.uk/stories/topics/mars-nasa-rover-perseverance-facts-dates', 'title': 'Perseverance Rover | NASA Mars Mission Facts & Video'}, page_content='To complete these scientific goals, the rover has been fitted with several scientific instruments, each designed to perform different experiments or test new technology.\\nThese include an advanced ultraviolet scanner and microscopic camera known as\\xa0SHERLOC\\xa0(Scanning Habitable Environments with Raman & Luminescence for Organics and Chemicals). Just like its detective namesake, SHERLOC is looking for the tiniest clues that could help solve the mystery of past life on Mars. It is also carrying samples of astronaut spacesuit material, testing to see whether they can withstand the harsh Martian environment.\\nAnother experiment called\\xa0MOXIE\\xa0(Mars Oxygen In-Situ Resource Utilization Experiment) is being used at various times to produce oxygen from carbon dioxide in the Martian atmosphere. If oxygen can be extracted from the atmosphere, it could be used in future human missions to provide oxygen to astronauts and possibly be used in other technologies such as transport systems on the planet.\\n\\n\\n \\n\\n\\n  \\n            This content is hosted by a third party\\n      \\n\\n\\nPlease allow all cookies to watch the video.'),\n",
       " Document(id='a5ba99a6-048e-4781-bf71-af96dc11066c', metadata={'description': \"NASA's Curiosity rover landed on Mars in 2012 to search for evidence that the planet could once have supported Earth-like life.\", 'language': 'en', 'source': 'https://www.planetary.org/space-missions/curiosity', 'title': \"Curiosity, exploring Mars' surface | The Planetary Society\"}, page_content=\"Support missions like CuriosityWhether it's advocating, teaching, inspiring, or learning, you can do something for space, right now. Let's get to work.Become A MemberWhen you become a member, you join our mission to increase discoveries in our solar system and beyond, elevate the search for life outside our planet, and decrease the risk of Earth being hit by an asteroid.Your role in space exploration starts now.\\n$4/month\\n$10/month\\n$20/month\\n$40/monthGet More Space In Your InboxSign up for updates, weekly tools, and exclusive opportunities to support space exploration.\\n\\n\\n\\n\\n\\n\\nSubscribe\\n\\n\\n\\n\\n\\n\\nYou may opt out any time. View our Privacy Policy.   You are here: Home >\\nCuriosity, exploring Mars' surface\\n\\n\\nExplore Space\\nPlanets & Other Worlds\\nSpace Missions\\nNight Sky\\nSpace Policy\\nFor KidsLearn\\nArticles\\nPlanetary Radio\\nSpace Images\\nVideos\\nCourses\\nThe Planetary ReportGet Involved\\nAction Center\\nEmail Signup\\nBecome A Member\\nContactGive\\nRenew Membership\\nSupport A Project\\nShop to Support\\nTravel\\nOther Ways to Give\")]"
      ]
     },
     "execution_count": 7,
     "metadata": {},
     "output_type": "execute_result"
    }
   ],
   "source": [
    "docs = vectorstore.similarity_search(\"Curiosity mission launch\", 4)\n",
    "docs"
   ]
  },
  {
   "cell_type": "code",
   "execution_count": 8,
   "metadata": {},
   "outputs": [],
   "source": [
    "vector_store_from_client = Chroma(\n",
    "    persist_directory=persist_directory,\n",
    "    embedding_function=oembed,\n",
    "    collection_name=collection_name\n",
    ")"
   ]
  },
  {
   "cell_type": "code",
   "execution_count": 9,
   "metadata": {},
   "outputs": [
    {
     "name": "stdout",
     "output_type": "stream",
     "text": [
      "39\n"
     ]
    }
   ],
   "source": [
    "print(vector_store_from_client._collection.count())"
   ]
  },
  {
   "cell_type": "code",
   "execution_count": 10,
   "metadata": {},
   "outputs": [
    {
     "data": {
      "text/plain": [
       "[Document(id='d3b29ca7-41c4-44c6-9df7-988cd957ac56', metadata={'description': \"NASA's Curiosity rover landed on Mars in 2012 to search for evidence that the planet could once have supported Earth-like life.\", 'language': 'en', 'source': 'https://www.planetary.org/space-missions/curiosity', 'title': \"Curiosity, exploring Mars' surface | The Planetary Society\"}, page_content=\"Watching Curiosity Land on Mars A couple in Times Square listens intently to the news reports as NASA's Curiosity rover attempts to land on Mars.Image: Navid BaratyWhat are Curiosity's mission objectives?Within a year, Curiosity achieved its primary goal of verifying that\\nGale Crater, where it landed, was an ancient lakebed that had water and\\nchemical elements that once could have supported life.Now in extended mission operations, Curiosity is continuing to look\\nfor signs of life in Gale Crater. In January 2022, scientists reported\\nthat rock samples found by Curiosity revealed interesting carbon\\nsignatures. On Earth, these can be associated with signs of life.\\nHowever, much more research is needed to determine what these organics\\nactually were and where they might have come from.By continuing to gather weather data as it drives up Mount Sharp, Curiosity\\nis helping Mars meteorologists understand how the planet’s atmosphere\\nand dust levels change with increasing elevation, which will help them\\nmake better weather predictions in the future.\"),\n",
       " Document(id='5c168c6b-0755-401f-9d58-bfe4d2330f25', metadata={'description': \"NASA's Curiosity rover landed on Mars in 2012 to search for evidence that the planet could once have supported Earth-like life.\", 'language': 'en', 'source': 'https://www.planetary.org/space-missions/curiosity', 'title': \"Curiosity, exploring Mars' surface | The Planetary Society\"}, page_content='A view inside the Curiosity SAM inlet On sol 2155, Curiosity used its Mastcam to take a look at the condition of one of the two SAM instrument inlets on the rover deck. The spring-loaded cover is open, revealing the relatively clean funnel that accepts samples dropped from the arm turret.Image: NASA / JPL-Caltech / MSSSHow does Curiosity take selfies?Curiosity takes selfies by stretching out its robotic arm and turning the MAHLI camera back on itself. Because the camera’s field of view is so narrow, multiple images must be taken and stitched together back on Earth. The robotic arm must be cropped out in the process, which can cause confusion for people viewing the stunning result.Other Curiosity science instruments include ChemCam, which zaps rocks with a laser\\nand records the resulting light through a telescope to determine the\\nchemical and mineral composition of the rocks, as well as weather and'),\n",
       " Document(id='f7edf1f8-f774-452b-ae4f-3129c1f53936', metadata={'description': \"NASA's new rover\\xa0is ready to begin searching for life on Mars\", 'language': 'en', 'source': 'https://www.rmg.co.uk/stories/topics/mars-nasa-rover-perseverance-facts-dates', 'title': 'Perseverance Rover | NASA Mars Mission Facts & Video'}, page_content='To complete these scientific goals, the rover has been fitted with several scientific instruments, each designed to perform different experiments or test new technology.\\nThese include an advanced ultraviolet scanner and microscopic camera known as\\xa0SHERLOC\\xa0(Scanning Habitable Environments with Raman & Luminescence for Organics and Chemicals). Just like its detective namesake, SHERLOC is looking for the tiniest clues that could help solve the mystery of past life on Mars. It is also carrying samples of astronaut spacesuit material, testing to see whether they can withstand the harsh Martian environment.\\nAnother experiment called\\xa0MOXIE\\xa0(Mars Oxygen In-Situ Resource Utilization Experiment) is being used at various times to produce oxygen from carbon dioxide in the Martian atmosphere. If oxygen can be extracted from the atmosphere, it could be used in future human missions to provide oxygen to astronauts and possibly be used in other technologies such as transport systems on the planet.\\n\\n\\n \\n\\n\\n  \\n            This content is hosted by a third party\\n      \\n\\n\\nPlease allow all cookies to watch the video.'),\n",
       " Document(id='a5ba99a6-048e-4781-bf71-af96dc11066c', metadata={'description': \"NASA's Curiosity rover landed on Mars in 2012 to search for evidence that the planet could once have supported Earth-like life.\", 'language': 'en', 'source': 'https://www.planetary.org/space-missions/curiosity', 'title': \"Curiosity, exploring Mars' surface | The Planetary Society\"}, page_content=\"Support missions like CuriosityWhether it's advocating, teaching, inspiring, or learning, you can do something for space, right now. Let's get to work.Become A MemberWhen you become a member, you join our mission to increase discoveries in our solar system and beyond, elevate the search for life outside our planet, and decrease the risk of Earth being hit by an asteroid.Your role in space exploration starts now.\\n$4/month\\n$10/month\\n$20/month\\n$40/monthGet More Space In Your InboxSign up for updates, weekly tools, and exclusive opportunities to support space exploration.\\n\\n\\n\\n\\n\\n\\nSubscribe\\n\\n\\n\\n\\n\\n\\nYou may opt out any time. View our Privacy Policy.   You are here: Home >\\nCuriosity, exploring Mars' surface\\n\\n\\nExplore Space\\nPlanets & Other Worlds\\nSpace Missions\\nNight Sky\\nSpace Policy\\nFor KidsLearn\\nArticles\\nPlanetary Radio\\nSpace Images\\nVideos\\nCourses\\nThe Planetary ReportGet Involved\\nAction Center\\nEmail Signup\\nBecome A Member\\nContactGive\\nRenew Membership\\nSupport A Project\\nShop to Support\\nTravel\\nOther Ways to Give\")]"
      ]
     },
     "execution_count": 10,
     "metadata": {},
     "output_type": "execute_result"
    }
   ],
   "source": [
    "docs = vector_store_from_client.similarity_search(\"Curiosity mission launch\", 4)\n",
    "docs"
   ]
  }
 ],
 "metadata": {
  "kernelspec": {
   "display_name": ".venv",
   "language": "python",
   "name": "python3"
  },
  "language_info": {
   "codemirror_mode": {
    "name": "ipython",
    "version": 3
   },
   "file_extension": ".py",
   "mimetype": "text/x-python",
   "name": "python",
   "nbconvert_exporter": "python",
   "pygments_lexer": "ipython3",
   "version": "3.12.5"
  }
 },
 "nbformat": 4,
 "nbformat_minor": 2
}
